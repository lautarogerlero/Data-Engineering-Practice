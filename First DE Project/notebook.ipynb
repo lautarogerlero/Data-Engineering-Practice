{
 "cells": [
  {
   "cell_type": "markdown",
   "metadata": {},
   "source": [
    "Imports"
   ]
  },
  {
   "cell_type": "code",
   "execution_count": 2,
   "metadata": {},
   "outputs": [],
   "source": [
    "import pymysql\n",
    "import pandas as pd\n",
    "from config import DATABASE_CONFIG"
   ]
  },
  {
   "cell_type": "markdown",
   "metadata": {},
   "source": [
    "Create a database and connect to it"
   ]
  },
  {
   "cell_type": "code",
   "execution_count": 3,
   "metadata": {},
   "outputs": [],
   "source": [
    "def create_database():\n",
    "    # Connect to the database    \n",
    "    connection = pymysql.connect(**DATABASE_CONFIG)\n",
    "    \n",
    "    cursor = connection.cursor()\n",
    "\n",
    "    database = \"first_project\"\n",
    "\n",
    "    # If the database exists, drop it\n",
    "    cursor.execute(f\"DROP DATABASE IF EXISTS {database}\")\n",
    "    \n",
    "    # Create the database\n",
    "    cursor.execute(f\"CREATE DATABASE {database}\")\n",
    "    print(f\"Database {database} created successfully\")\n",
    "\n",
    "    # Connect to the new database\n",
    "    connection = pymysql.connect(**DATABASE_CONFIG, database=database)\n",
    "\n",
    "    cursor = connection.cursor()\n",
    "\n",
    "    return cursor, connection"
   ]
  },
  {
   "cell_type": "markdown",
   "metadata": {},
   "source": [
    "Open the files and create dataframes"
   ]
  },
  {
   "cell_type": "code",
   "execution_count": 4,
   "metadata": {},
   "outputs": [
    {
     "data": {
      "text/html": [
       "<div>\n",
       "<style scoped>\n",
       "    .dataframe tbody tr th:only-of-type {\n",
       "        vertical-align: middle;\n",
       "    }\n",
       "\n",
       "    .dataframe tbody tr th {\n",
       "        vertical-align: top;\n",
       "    }\n",
       "\n",
       "    .dataframe thead th {\n",
       "        text-align: right;\n",
       "    }\n",
       "</style>\n",
       "<table border=\"1\" class=\"dataframe\">\n",
       "  <thead>\n",
       "    <tr style=\"text-align: right;\">\n",
       "      <th></th>\n",
       "      <th>agentid</th>\n",
       "      <th>name</th>\n",
       "    </tr>\n",
       "  </thead>\n",
       "  <tbody>\n",
       "    <tr>\n",
       "      <th>0</th>\n",
       "      <td>0</td>\n",
       "      <td>Michele Williams</td>\n",
       "    </tr>\n",
       "    <tr>\n",
       "      <th>1</th>\n",
       "      <td>1</td>\n",
       "      <td>Jocelyn Parker</td>\n",
       "    </tr>\n",
       "    <tr>\n",
       "      <th>2</th>\n",
       "      <td>2</td>\n",
       "      <td>Christopher Moreno</td>\n",
       "    </tr>\n",
       "    <tr>\n",
       "      <th>3</th>\n",
       "      <td>3</td>\n",
       "      <td>Todd Morrow</td>\n",
       "    </tr>\n",
       "    <tr>\n",
       "      <th>4</th>\n",
       "      <td>4</td>\n",
       "      <td>Randy Moore</td>\n",
       "    </tr>\n",
       "  </tbody>\n",
       "</table>\n",
       "</div>"
      ],
      "text/plain": [
       "   agentid                name\n",
       "0        0    Michele Williams\n",
       "1        1      Jocelyn Parker\n",
       "2        2  Christopher Moreno\n",
       "3        3         Todd Morrow\n",
       "4        4         Randy Moore"
      ]
     },
     "execution_count": 4,
     "metadata": {},
     "output_type": "execute_result"
    }
   ],
   "source": [
    "agents = pd.read_csv(\"agents.csv\")\n",
    "agents.head()"
   ]
  },
  {
   "cell_type": "code",
   "execution_count": 5,
   "metadata": {},
   "outputs": [
    {
     "data": {
      "text/html": [
       "<div>\n",
       "<style scoped>\n",
       "    .dataframe tbody tr th:only-of-type {\n",
       "        vertical-align: middle;\n",
       "    }\n",
       "\n",
       "    .dataframe tbody tr th {\n",
       "        vertical-align: top;\n",
       "    }\n",
       "\n",
       "    .dataframe thead th {\n",
       "        text-align: right;\n",
       "    }\n",
       "</style>\n",
       "<table border=\"1\" class=\"dataframe\">\n",
       "  <thead>\n",
       "    <tr style=\"text-align: right;\">\n",
       "      <th></th>\n",
       "      <th>callid</th>\n",
       "      <th>agentid</th>\n",
       "      <th>customerid</th>\n",
       "      <th>pickedup</th>\n",
       "      <th>duration</th>\n",
       "      <th>productsold</th>\n",
       "    </tr>\n",
       "  </thead>\n",
       "  <tbody>\n",
       "    <tr>\n",
       "      <th>0</th>\n",
       "      <td>0</td>\n",
       "      <td>10</td>\n",
       "      <td>179</td>\n",
       "      <td>0</td>\n",
       "      <td>0</td>\n",
       "      <td>0</td>\n",
       "    </tr>\n",
       "    <tr>\n",
       "      <th>1</th>\n",
       "      <td>1</td>\n",
       "      <td>5</td>\n",
       "      <td>691</td>\n",
       "      <td>1</td>\n",
       "      <td>116</td>\n",
       "      <td>0</td>\n",
       "    </tr>\n",
       "    <tr>\n",
       "      <th>2</th>\n",
       "      <td>2</td>\n",
       "      <td>10</td>\n",
       "      <td>80</td>\n",
       "      <td>1</td>\n",
       "      <td>165</td>\n",
       "      <td>0</td>\n",
       "    </tr>\n",
       "    <tr>\n",
       "      <th>3</th>\n",
       "      <td>3</td>\n",
       "      <td>6</td>\n",
       "      <td>629</td>\n",
       "      <td>1</td>\n",
       "      <td>128</td>\n",
       "      <td>0</td>\n",
       "    </tr>\n",
       "    <tr>\n",
       "      <th>4</th>\n",
       "      <td>4</td>\n",
       "      <td>8</td>\n",
       "      <td>318</td>\n",
       "      <td>1</td>\n",
       "      <td>205</td>\n",
       "      <td>0</td>\n",
       "    </tr>\n",
       "  </tbody>\n",
       "</table>\n",
       "</div>"
      ],
      "text/plain": [
       "   callid  agentid  customerid  pickedup  duration  productsold\n",
       "0       0       10         179         0         0            0\n",
       "1       1        5         691         1       116            0\n",
       "2       2       10          80         1       165            0\n",
       "3       3        6         629         1       128            0\n",
       "4       4        8         318         1       205            0"
      ]
     },
     "execution_count": 5,
     "metadata": {},
     "output_type": "execute_result"
    }
   ],
   "source": [
    "calls = pd.read_csv(\"calls.csv\")\n",
    "calls.head()"
   ]
  },
  {
   "cell_type": "code",
   "execution_count": 6,
   "metadata": {},
   "outputs": [
    {
     "data": {
      "text/html": [
       "<div>\n",
       "<style scoped>\n",
       "    .dataframe tbody tr th:only-of-type {\n",
       "        vertical-align: middle;\n",
       "    }\n",
       "\n",
       "    .dataframe tbody tr th {\n",
       "        vertical-align: top;\n",
       "    }\n",
       "\n",
       "    .dataframe thead th {\n",
       "        text-align: right;\n",
       "    }\n",
       "</style>\n",
       "<table border=\"1\" class=\"dataframe\">\n",
       "  <thead>\n",
       "    <tr style=\"text-align: right;\">\n",
       "      <th></th>\n",
       "      <th>customerid</th>\n",
       "      <th>name</th>\n",
       "      <th>occupation</th>\n",
       "      <th>Age</th>\n",
       "    </tr>\n",
       "  </thead>\n",
       "  <tbody>\n",
       "    <tr>\n",
       "      <th>0</th>\n",
       "      <td>0</td>\n",
       "      <td>David Melton</td>\n",
       "      <td>Unemployed</td>\n",
       "      <td>16</td>\n",
       "    </tr>\n",
       "    <tr>\n",
       "      <th>1</th>\n",
       "      <td>1</td>\n",
       "      <td>Michael Gonzalez</td>\n",
       "      <td>Student</td>\n",
       "      <td>19</td>\n",
       "    </tr>\n",
       "    <tr>\n",
       "      <th>2</th>\n",
       "      <td>2</td>\n",
       "      <td>Amanda Wilson</td>\n",
       "      <td>Student</td>\n",
       "      <td>18</td>\n",
       "    </tr>\n",
       "    <tr>\n",
       "      <th>3</th>\n",
       "      <td>3</td>\n",
       "      <td>Robert Thomas</td>\n",
       "      <td>Engineer, structural</td>\n",
       "      <td>25</td>\n",
       "    </tr>\n",
       "    <tr>\n",
       "      <th>4</th>\n",
       "      <td>4</td>\n",
       "      <td>Eddie Hall</td>\n",
       "      <td>Surgeon</td>\n",
       "      <td>30</td>\n",
       "    </tr>\n",
       "  </tbody>\n",
       "</table>\n",
       "</div>"
      ],
      "text/plain": [
       "   customerid              name            occupation  Age\n",
       "0           0      David Melton            Unemployed   16\n",
       "1           1  Michael Gonzalez               Student   19\n",
       "2           2     Amanda Wilson               Student   18\n",
       "3           3     Robert Thomas  Engineer, structural   25\n",
       "4           4        Eddie Hall               Surgeon   30"
      ]
     },
     "execution_count": 6,
     "metadata": {},
     "output_type": "execute_result"
    }
   ],
   "source": [
    "customers = pd.read_csv(\"customers.csv\")\n",
    "# Keep just the necessary columns\n",
    "customers = customers[[\"customerid\", \"name\", \"occupation\", \"Age\"]]\n",
    "customers.head()"
   ]
  },
  {
   "cell_type": "markdown",
   "metadata": {},
   "source": [
    "Create the cursor and the connection"
   ]
  },
  {
   "cell_type": "code",
   "execution_count": 7,
   "metadata": {},
   "outputs": [
    {
     "name": "stdout",
     "output_type": "stream",
     "text": [
      "Database first_project created successfully\n"
     ]
    }
   ],
   "source": [
    "cursor, connection = create_database()"
   ]
  },
  {
   "cell_type": "markdown",
   "metadata": {},
   "source": [
    "SQL CREATE sentences"
   ]
  },
  {
   "cell_type": "code",
   "execution_count": 8,
   "metadata": {},
   "outputs": [],
   "source": [
    "calls_create = (\"\"\" CREATE TABLE IF NOT EXISTS calls (\n",
    "                callid INT PRIMARY KEY,\n",
    "                agentid INT,\n",
    "                customerid INT, \n",
    "                pickedup INT,\n",
    "                duration INT,\n",
    "                productsold INT\n",
    ") \"\"\")\n",
    "\n",
    "agents_create = (\"\"\" CREATE TABLE IF NOT EXISTS agents (\n",
    "                agentid INT PRIMARY KEY,\n",
    "                name VARCHAR(100)\n",
    ") \"\"\")\n",
    "\n",
    "customers_create = (\"\"\" CREATE TABLE IF NOT EXISTS customer (\n",
    "                customerid INT PRIMARY KEY, \n",
    "                name VARCHAR(100),\n",
    "                occupation VARCHAR(255),\n",
    "                age INT\n",
    ") \"\"\")\n",
    "\n",
    "cursor.execute(calls_create)\n",
    "cursor.execute(agents_create)\n",
    "cursor.execute(customers_create)\n",
    "\n",
    "connection.commit()"
   ]
  },
  {
   "cell_type": "markdown",
   "metadata": {},
   "source": [
    "Basic data insertion"
   ]
  },
  {
   "cell_type": "code",
   "execution_count": 9,
   "metadata": {},
   "outputs": [],
   "source": [
    "calls_insert = (\"\"\" INSERT INTO calls (callid, agentid, customerid, pickedup, duration, productsold) \n",
    "                VALUES (%s, %s, %s, %s, %s, %s) \"\"\")\n",
    "\n",
    "agents_insert = (\"\"\" INSERT INTO agents (agentid, name)\n",
    "                 VALUES (%s, %s)\"\"\")\n",
    "\n",
    "customers_insert = (\"\"\"INSERT INTO customer (customerid, name, occupation, age) \n",
    "                    VALUES (%s, %s, %s, %s)\"\"\")\n",
    "\n",
    "for i, row in calls.iterrows():\n",
    "    cursor.execute(calls_insert, list(row))\n",
    "\n",
    "for i, row in agents.iterrows():\n",
    "    cursor.execute(agents_insert, list(row))\n",
    "\n",
    "for i, row in customers.iterrows():\n",
    "    cursor.execute(customers_insert, list(row))\n",
    "\n",
    "connection.commit()"
   ]
  },
  {
   "cell_type": "markdown",
   "metadata": {},
   "source": [
    "Close cursor and connection"
   ]
  },
  {
   "cell_type": "code",
   "execution_count": 10,
   "metadata": {},
   "outputs": [],
   "source": [
    "if 'cursor' in locals():\n",
    "    cursor.close()\n",
    "if 'connection' in locals() and connection.open:\n",
    "    connection.close()"
   ]
  }
 ],
 "metadata": {
  "kernelspec": {
   "display_name": "Python 3",
   "language": "python",
   "name": "python3"
  },
  "language_info": {
   "codemirror_mode": {
    "name": "ipython",
    "version": 3
   },
   "file_extension": ".py",
   "mimetype": "text/x-python",
   "name": "python",
   "nbconvert_exporter": "python",
   "pygments_lexer": "ipython3",
   "version": "3.11.4"
  }
 },
 "nbformat": 4,
 "nbformat_minor": 2
}
